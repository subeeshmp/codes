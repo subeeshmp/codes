{
 "cells": [
  {
   "cell_type": "code",
   "execution_count": 1,
   "id": "c1908794-a744-4629-b352-a682123b0b5e",
   "metadata": {},
   "outputs": [],
   "source": [
    "import numpy as np\n",
    "import matplotlib.pyplot as plt\n",
    "from netCDF4 import Dataset\n",
    "import glob, sys\n",
    "import sys\n",
    "import xarray as xr\n",
    "import dask.distributed\n",
    "from matplotlib import colors as c\n",
    "import pytide\n",
    "import multiprocessing\n",
    "import pandas as pd\n",
    "import datetime\n",
    "import seawater\n",
    "import gsw"
   ]
  },
  {
   "cell_type": "markdown",
   "id": "3b7f05fc-7eda-4c57-b5a3-e56603367838",
   "metadata": {},
   "source": [
    "Read variable in a netcdf file. Function requires variable name, xaxis,yaxis and zaxis grid name.\n",
    "mask file is also creating. Now the value greater than 2000 is used to create mask file. This value can set according to the model output. 2000 is given to consider density value which range 1000.\n",
    "Timeseries values is converting to datetime64 format which is required for harmonic analysis in pytide package"
   ]
  },
  {
   "cell_type": "code",
   "execution_count": 2,
   "id": "9773bbd4-5213-43dd-a347-ade2df390cff",
   "metadata": {},
   "outputs": [],
   "source": [
    "def read_netcdf(variable_name,t_name,x_name,y_name,k_name):\n",
    "    data_netcdf=xr.open_mfdataset('ROMS_*.nc', parallel=True, concat_dim=t_name, combine=\"nested\",\n",
    "                           data_vars='minimal', coords='minimal', compat='override')\n",
    "    if variable_name == 'ZETA':\n",
    "        data_netcdf_var=data_netcdf[variable_name][:,:,:].values\n",
    "        mask=xr.where(data_netcdf_var[0,:,:]>2000, np.nan, 1)\n",
    "    else:\n",
    "        data_netcdf_var=data_netcdf[variable_name][:,:,:,:].values\n",
    "        mask=xr.where(data_netcdf_var[0,:,:,:]>2000, np.nan, 1) \n",
    "    lon=data_netcdf[x_name][:].values\n",
    "    lat=data_netcdf[y_name][:].values\n",
    "    depth=data_netcdf[k_name][:].values\n",
    "    time_value=data_netcdf[t_name].values.astype('datetime64[s]')\n",
    "    \n",
    "    xsize=lon.size\n",
    "    ysize=lat.size\n",
    "    zsize=depth.size\n",
    "    tsize=time_value.size\n",
    "    if variable_name == 'ZETA':\n",
    "        zsize=1\n",
    "    return data_netcdf_var, mask, time_value,lon,lat,depth,xsize,ysize,zsize,tsize"
   ]
  },
  {
   "cell_type": "code",
   "execution_count": 3,
   "id": "505a26e5-4f94-4c46-a031-21f82ce998a5",
   "metadata": {},
   "outputs": [],
   "source": [
    "def nodal_modulations(wave_table, time_series):\n",
    "   # \"\"\"Compute nodal corrections for a given time series\"\"\"    \n",
    "    #t = time_series.astype('datetime64[s]')\n",
    "    waves_table = pytide.WaveTable(wave_table)\n",
    "    f, v0u = waves_table.compute_nodal_modulations(time_series)\n",
    "    return (f,v0u)"
   ]
  },
  {
   "cell_type": "code",
   "execution_count": 4,
   "id": "06e1fc58-6d74-4a8b-8bc6-48b7cc50caef",
   "metadata": {},
   "outputs": [],
   "source": [
    "def Harmonic_analysis(mask,eta,f,v0u,wave_table):\n",
    "    if mask ==1:\n",
    "        waves_table = pytide.WaveTable(wave_table)\n",
    "        w = waves_table.harmonic_analysis(eta, f, v0u)\n",
    "        return(w)\n",
    "    return np.array([np.nan])"
   ]
  },
  {
   "cell_type": "code",
   "execution_count": 5,
   "id": "a34e0aa1-35f9-4bad-a907-9f56524a3589",
   "metadata": {},
   "outputs": [],
   "source": [
    "def splat_harmonic_analysis(args):\n",
    "    return Harmonic_analysis(*args)"
   ]
  },
  {
   "cell_type": "code",
   "execution_count": 6,
   "id": "ad6661ee-7f4e-4f83-adf1-9de2a683e055",
   "metadata": {},
   "outputs": [],
   "source": [
    "def parallel(var,input_timeseries,mask,xsize,ysize,zsize,eta,f,v0u,wave_table,processor_number):\n",
    "    pool=multiprocessing.Pool(processor_number)\n",
    "    if var == 'ZETA':\n",
    "        analysis = pool.map(splat_harmonic_analysis,\n",
    "                   ((mask[i,j],input_timeseries[:,i,j], f, v0u,wave_table) for i in range(ysize) for j in range(xsize)))\n",
    "    else:\n",
    "        analysis = pool.map(splat_harmonic_analysis,\n",
    "                   ((mask[k,i,j],input_timeseries[:,k,i,j], f, v0u,wave_table) for k in range(zsize) for i in range(ysize) \n",
    "                   for j in range(xsize)))    \n",
    "    return analysis"
   ]
  },
  {
   "cell_type": "code",
   "execution_count": 7,
   "id": "784ed1c3-7cc0-4efc-b94c-e422cf81e84c",
   "metadata": {},
   "outputs": [],
   "source": [
    "def create_netcdf(var,x,y,z,amp,pha):\n",
    "    if var=='ZETA':\n",
    "        z=[0.0]\n",
    "        #amp=np.reshape(amp,[x.size,y.size,1])\n",
    "        #pha=np.reshape(pha,[x.size,y.size,1])       \n",
    "    ds = xr.Dataset(\n",
    "        data_vars=dict(\n",
    "            amp=([\"depth\",\"lat\", \"lon\"], amp),\n",
    "            pha=([\"depth\",\"lat\", \"lon\"], pha)),\n",
    "        coords=dict(\n",
    "            lon=([\"lon\"], x),\n",
    "            lat=([\"lat\"], y),\n",
    "            depth=([\"depth\"], z),\n",
    "        ),\n",
    "        attrs=dict(description=var),\n",
    "    )\n",
    "    if var=='ZETA':\n",
    "        ds.amp.attrs[\"units\"] = \"meters\"\n",
    "    elif var=='U' or var=='V':\n",
    "        ds.amp.attrs[\"units\"] = \"m/s\"\n",
    "    else:\n",
    "        ds.amp.attrs[\"units\"] = \"meters\"            \n",
    "    ds.pha.attrs[\"units\"] = \"degree\"\n",
    "    ds.lon.attrs[\"units\"] = \"degree_east\"\n",
    "    ds.lat.attrs[\"units\"] = \"degree_north\"\n",
    "    \n",
    "    out_data=ds.to_netcdf(var+'.nc',\"w\")\n",
    "    \n",
    "    return out_data"
   ]
  },
  {
   "cell_type": "code",
   "execution_count": 8,
   "id": "cdf702a0-2bac-4753-997d-9c6bcfb67639",
   "metadata": {},
   "outputs": [],
   "source": [
    "def timeseries_constituents(wave_table,xsize,ysize,zsize,amp,pha):\n",
    "    constituent=wave_table[0]\n",
    "    if constituent=='M2':\n",
    "        time=np.arange(13)\n",
    "        tide =  np.reshape(amp,(1,zsize,ysize,xsize)) * np.sin((0.505636071* \n",
    "                                                     np.tile(time.reshape(13,1,1,1),\n",
    "                                                                          (1,zsize,ysize,xsize)))- \n",
    "                                                    (np.reshape(pha,(1,zsize,ysize,xsize))*(np.pi/180.)))\n",
    "    return tide"
   ]
  },
  {
   "cell_type": "code",
   "execution_count": 9,
   "id": "c4e5b568-9540-4eed-a18d-ba870dcf9670",
   "metadata": {},
   "outputs": [],
   "source": [
    "def create_netcdf_timeseries(wave_table,var,x,y,z,t,tide):\n",
    "    constituent=wave_table[0]\n",
    "    if constituent=='M2':\n",
    "        t=t[0:13]\n",
    "    if var=='ZETA':\n",
    "        z=[0.0]    \n",
    "    ds = xr.Dataset(\n",
    "        data_vars=dict(\n",
    "            tide=([\"time\",\"depth\",\"lat\", \"lon\"], tide),),\n",
    "        coords=dict(\n",
    "            lon=([\"lon\"], x),\n",
    "            lat=([\"lat\"], y),\n",
    "            depth=([\"depth\"], z),\n",
    "            time=([\"time\"],t)\n",
    "        ),\n",
    "        attrs=dict(description=var),\n",
    "    )\n",
    "    if var=='ZETA':\n",
    "        ds.tide.attrs[\"units\"] = \"meters\"\n",
    "    elif var=='U' or var=='V':\n",
    "        ds.tide.attrs[\"units\"] = \"m/s\"\n",
    "    else:\n",
    "        ds.tide.attrs[\"units\"] = \"meters\"            \n",
    "    ds.lon.attrs[\"units\"] = \"degree_east\"\n",
    "    ds.lat.attrs[\"units\"] = \"degree_north\"\n",
    "    \n",
    "    out_data=ds.to_netcdf(var+'_timeseries.nc',\"w\")\n",
    "    \n",
    "    return out_data"
   ]
  },
  {
   "cell_type": "code",
   "execution_count": 10,
   "id": "fbc7402f-bca5-4b2d-b78f-14545e02b9eb",
   "metadata": {},
   "outputs": [],
   "source": [
    "def vertical_average(var,depth,mask,xsize,ysize):\n",
    "    dz=np.append([1],(depth[1:]-depth[:-1]))  # dz value will start with [1,...]\n",
    "    \n",
    "    #  sum of ( variable* mask * dz) / sum of (dz*mask) \n",
    "    if len(var.shape) == 3:\n",
    "        var_reshape=np.reshape(var,(1,dz.size,ysize,xsize))\n",
    "    else:\n",
    "        var_reshape=var\n",
    "\n",
    "    depth_mean= np.nansum((var_reshape*(mask.reshape(1,dz.size,ysize,xsize)))*\n",
    "                       (dz.reshape(1,dz.size,1,1)),axis=1)/np.nansum( (\n",
    "        (dz.reshape(1,dz.size,1,1))* (mask.reshape(1,dz.size,ysize,xsize)) ),axis=1 )\n",
    "    \n",
    "    #depth_mean2= np.sum((var)*(dz.reshape(1,dz.size,1,1)),axis=1)/np.sum(dz)\n",
    "    return(depth_mean)"
   ]
  },
  {
   "cell_type": "code",
   "execution_count": 11,
   "id": "17f93058-7d83-4bd2-a1f5-62554e6d762c",
   "metadata": {},
   "outputs": [],
   "source": [
    "def density_calculate(temp_name,salt_name,k_name,t_name,xsize,ysize,zsize):\n",
    "    ds=xr.open_mfdataset('ROMS_*.nc', parallel=True, concat_dim=t_name, combine=\"nested\",\n",
    "                           data_vars='minimal', coords='minimal', compat='override')\n",
    "    density=xr.apply_ufunc(gsw.density.rho, ds[salt_name], ds[temp_name],ds[k_name],  dask='parallelized')\n",
    "    dens=density[:,:,:,:].values\n",
    "    density_tmean=density.mean(dim=t_name).values\n",
    "    temp_tmean=np.reshape(ds[temp_name].mean(dim=t_name).values,(1,zsize,ysize,xsize))\n",
    "    salt_tmean=np.reshape(ds[salt_name].mean(dim=t_name).values,(1,zsize,ysize,xsize))\n",
    "    return dens,density_tmean,temp_tmean,salt_tmean"
   ]
  },
  {
   "cell_type": "code",
   "execution_count": 12,
   "id": "11cc180c-4884-4f0a-89b4-84f9af1fb487",
   "metadata": {},
   "outputs": [],
   "source": [
    "def brunt_visala_calculate(salt,temp,depth,mask):\n",
    "    n2=gsw.Nsquared(salt*mask,temp*mask,depth*mask,30)  #30 is the latitude, without this it showing some unrealistic values\n",
    "    nsq=n2[0]\n",
    "    nsq_negative_mask=np.where(nsq<0,np.nan,nsq)\n",
    "    return nsq_negative_mask\n",
    "\n",
    "def splat_n2(args):\n",
    "    return brunt_visala_calculate(*args)\n",
    "\n",
    "def parallel_n2(salt,temp,depth,mask,xsize,ysize,tsize,processor_number):\n",
    "    pool=multiprocessing.Pool(processor_number)\n",
    "    analysis = pool.map(splat_n2,\n",
    "                   ((salt[t,:,i,j],temp[t,:,i,j],depth[:],mask[:,i,j]) for t in range(tsize) for i in range(ysize) \n",
    "                   for j in range(xsize)))\n",
    "        \n",
    "    return analysis"
   ]
  },
  {
   "cell_type": "markdown",
   "id": "b51341c9-51a6-4d02-b845-5e6dbb095234",
   "metadata": {},
   "source": [
    "Equation of isopycnal displacement is \n",
    "\n",
    "$b = -g * (\\rho - \\rho_T)/\\rho_Z$\n",
    "\n",
    "$\\eta = -b/N^2$"
   ]
  },
  {
   "cell_type": "code",
   "execution_count": 13,
   "id": "56346a23-87ac-4d7d-960c-19d7c16704eb",
   "metadata": {},
   "outputs": [],
   "source": [
    "def isopycnal_displacement(nsq,density,density_tmean,density_zmean,mask,xsize,ysize,zsize,tsize):\n",
    "    #eta_isopycnal= (9.8 * (density-density_tmean.reshape(1,zsize,ysize,xsize))/\n",
    "    #            (density_zmean.reshape(1,1,ysize,xsize)))/(np.nanmean(nsq,axis=0))\n",
    "    \n",
    "    dens_at_nsq=density[:,1:,:,:]\n",
    "    denstmean_at_nsq=density_tmean[1:,:,:]\n",
    "    \n",
    "    eta_isopycnal= (9.8 * (dens_at_nsq-denstmean_at_nsq.reshape(1,zsize-1,ysize,xsize))/\n",
    "                (density_zmean.reshape(1,1,ysize,xsize)))/(np.nanmean(nsq,axis=0))\n",
    "    \n",
    "    return eta_isopycnal"
   ]
  },
  {
   "cell_type": "code",
   "execution_count": 14,
   "id": "86f5ae54-a346-4bbe-9bee-ebc680ff3611",
   "metadata": {},
   "outputs": [],
   "source": [
    "if __name__ == '__main__':\n",
    "    \n",
    "    ### User defined NETCDF variable and axis names  This part is for U, V, and ZETA\n",
    "    var_name ='U'\n",
    "    var_tname='TIME'\n",
    "    var_xname='LON_RHO385_409'\n",
    "    var_yname='LAT_RHO122_146'\n",
    "    var_zname='DEPTH'\n",
    "    \n",
    "    ### User defined tidal consituent\n",
    "    wave_table=['M2'] \n",
    "    \n",
    "    ##\n",
    "    #mask=1\n",
    "    \n",
    "    processor_number=20 \n",
    "    \n",
    "    \n",
    "    eta,mask,time,lon,lat,depth,xsize,ysize,zsize,tsize=read_netcdf(var_name,var_tname,var_xname,var_yname,var_zname)\n",
    "\n",
    "\n",
    "    f,v0u=nodal_modulations(wave_table,time)\n",
    "    \n",
    "   \n",
    "    analysis=parallel(var_name,eta,mask,xsize,ysize,zsize,eta,f,v0u,wave_table,processor_number)\n",
    "    \n",
    "    amp=np.absolute (np.reshape(np.array(analysis), (zsize,ysize,xsize)))\n",
    "    \n",
    "    pha=np.angle (np.reshape(np.array(analysis), (zsize,ysize,xsize)),deg=True)\n",
    "     \n",
    "    out=create_netcdf(var_name,lon,lat,depth,amp,pha)\n",
    "    \n",
    "    tide=timeseries_constituents(wave_table,xsize,ysize,zsize,amp,pha)\n",
    "\n",
    "    create_netcdf_timeseries(wave_table,var_name,lon,lat,depth,time,tide)\n",
    "\n"
   ]
  },
  {
   "cell_type": "code",
   "execution_count": 19,
   "id": "e5502102-2aae-45c5-9182-209dd186bb2b",
   "metadata": {},
   "outputs": [
    {
     "name": "stdout",
     "output_type": "stream",
     "text": [
      "(1, 39, 25, 25)\n"
     ]
    }
   ],
   "source": [
    "\n",
    "if __name__ == '__main__':\n",
    "    \n",
    "    density,density_tmean,temp_tmean,salt_tmean=density_calculate(\"TEMP\",\"SALT\",\"DEPTH\",\"TIME\",xsize,ysize,zsize)\n",
    "    \n",
    "    density_zmean=vertical_average(density_tmean,depth,mask,xsize,ysize)\n",
    "    \n",
    "    ttsize=1\n",
    "    #nsq=np.reshape(np.array(parallel_n2(salt_tmean,temp_tmean,abs(depth),mask,xsize,ysize,ttsize,processor_number)),(ttsize,zsize-1,ysize,xsize))\n",
    "    \n",
    "    nsq=np.reshape(np.transpose(np.array(parallel_n2(salt_tmean,temp_tmean,abs(depth),mask,xsize,ysize,ttsize,processor_number))),(ttsize,zsize-1,ysize,xsize))\n",
    "    \n",
    "    print(nsq.shape)\n",
    "    eta_isopycnal=isopycnal_displacement(nsq,density,density_tmean,density_zmean,mask,xsize,ysize,zsize,tsize)\n",
    "    \n",
    "    \n",
    "\n",
    "    \n",
    "    \n"
   ]
  },
  {
   "cell_type": "code",
   "execution_count": 20,
   "id": "1c6fba43-1661-4432-931c-f623a277f4d4",
   "metadata": {},
   "outputs": [],
   "source": [
    "!rm eta.nc\n",
    "!rm eta_timeseries.nc\n",
    "if __name__ == '__main__':\n",
    "\n",
    "    var_name='eta'\n",
    "    eta_tide=parallel(var_name,eta_isopycnal,mask,xsize,ysize,zsize-1,eta,f,v0u,wave_table,processor_number)\n",
    "    \n",
    "    eta_amp=np.absolute (np.reshape(np.array(eta_tide), (zsize-1,ysize,xsize)))\n",
    "    \n",
    "    eta_pha=np.angle (np.reshape(np.array(eta_tide), (zsize-1,ysize,xsize)),deg=True)\n",
    "     \n",
    "    out=create_netcdf(var_name,lon,lat,depth[1:],eta_amp,eta_pha)\n",
    "    \n",
    "    eta_tide=timeseries_constituents(wave_table,xsize,ysize,zsize-1,eta_amp,eta_pha)\n",
    "\n",
    "    create_netcdf_timeseries(wave_table,var_name,lon,lat,depth[1:],time,eta_tide)"
   ]
  },
  {
   "cell_type": "code",
   "execution_count": null,
   "id": "aaeffbdf-3f00-49e3-a3b3-c25f6b2d3fbd",
   "metadata": {},
   "outputs": [],
   "source": [
    "#plt.plot(temp_tmean[0,:,0,0],-1*depth)\n",
    "#plt.plot(eta_isopycnal[0,:,19,19],-1*depth[1:])\n",
    "print(temp_tmean.shape)\n",
    "plt.plot(temp_tmean[0,:,19,19][1:20],-1*depth[:][1:20])"
   ]
  },
  {
   "cell_type": "code",
   "execution_count": null,
   "id": "f73c05d1-df54-46e2-bdb9-91103bd801ea",
   "metadata": {},
   "outputs": [],
   "source": [
    "print(eta_isopycnal.shape)\n",
    "#plt.plot(eta_isopycnal[:,1,0,0])\n",
    "\n",
    "x_test=0\n",
    "y_test=0\n",
    "z_test=1\n",
    "\n",
    "#plt.plot(eta_isopycnal[:,z_test,y_test,x_test])\n",
    "\n",
    "\n",
    "#\n",
    "#print(density_zmean.shape)\n",
    "\n",
    "density_t=np.mean(density[30:300,z_test,y_test,x_test],axis=0)\n",
    "\n",
    "print(density_t)\n",
    "\n",
    "eta_test=(9.8* (density[30:300,z_test,y_test,x_test]-density_t)/(density_zmean[0,y_test,x_test]))/nsq[0,z_test,y_test,x_test]\n",
    "\n",
    "\n",
    "#eta_test2=(9.8* (density[:,z_test,y_test,x_test]-/(density_zmean[0,y_test,x_test]))/nsq[0,z_test,y_test,x_test]\n",
    "\n",
    "\n",
    "plt.plot(eta_test)\n",
    "\n",
    "#plt.plot(density[:,z_test,y_test,x_test])\n",
    "k=0\n",
    "for k in range(38):\n",
    "    if nsq[0,k,19,19] < 1e-6:\n",
    "        print(nsq[0,k,19,19])\n",
    "        print(depth[k+1])\n",
    "        print(temp_tmean[0,k,19,19])        \n",
    "        print(salt_tmean[0,k,19,19],k)\n",
    "        "
   ]
  },
  {
   "cell_type": "code",
   "execution_count": null,
   "id": "03320cbb-6eec-4bda-a1d2-7ae1e13d9230",
   "metadata": {},
   "outputs": [],
   "source": [
    "A=np.array([2,5,79,99,88,99])\n",
    "B=np.array([0,2])\n",
    "\n",
    "A[2::]"
   ]
  },
  {
   "cell_type": "code",
   "execution_count": null,
   "id": "55343273-0a14-46f7-bbcf-28d6e0b03627",
   "metadata": {},
   "outputs": [],
   "source": [
    "d_eta=xr.open_dataset('eta_timeseries.nc')\n",
    "#print(d_eta[\"tide\"].values.shape)\n",
    "#plt.plot(d_eta[\"tide\"][:,29:,0,20])\n",
    "\n",
    "d_amp=xr.open_dataset('eta.nc')\n",
    "\n",
    "print(d_amp[\"amp\"][27:,0,20])\n",
    "print(d_eta[\"depth\"][28].values)\n",
    "#plt.contourf(d_eta[\"tide\"][:,:,0,20])\n",
    "\n",
    "#plt.colorbar()\n",
    "\n",
    "#plt.plot(d_amp[\"amp\"][:,0,20])\n",
    "nsqmean=np.nanmean(nsq,axis=0)\n",
    "\n",
    "plt.plot(nsqmean[:,0,20])\n",
    "\n",
    "#plt.plot(salt_mean[0,:,0,20],-1*depth)\n"
   ]
  },
  {
   "cell_type": "code",
   "execution_count": null,
   "id": "9ab4c5f4-7205-4f6c-9034-eb8d4e3f9e07",
   "metadata": {},
   "outputs": [],
   "source": [
    "p=np.array([1,np.nan,2,3])\n",
    "\n",
    "print(np.nanmean(p))"
   ]
  },
  {
   "cell_type": "code",
   "execution_count": null,
   "id": "2bfa9d2d-d029-4f0b-b8dc-6623d2f711fe",
   "metadata": {},
   "outputs": [],
   "source": [
    "\n",
    "%time ds=xr.open_mfdataset('ROMS_*.nc', parallel=True, concat_dim=var_tname, combine=\"nested\",data_vars='minimal', coords='minimal', compat='override', chunks={\"TIME\": 20})\n",
    "\n",
    "%time density=xr.apply_ufunc(gsw.density.rho, ds[\"SALT\"], ds[\"TEMP\"],ds[\"DEPTH\"],  dask='parallelized')\n"
   ]
  },
  {
   "cell_type": "code",
   "execution_count": null,
   "id": "a9c6c6f8-284f-42de-9dbb-98d444c26a2f",
   "metadata": {},
   "outputs": [],
   "source": [
    "dens_5day=density.rolling(TIME=5, center=True).mean()\n",
    "\n",
    "print(density)"
   ]
  }
 ],
 "metadata": {
  "kernelspec": {
   "display_name": "Python 3 (ipykernel)",
   "language": "python",
   "name": "python3"
  },
  "language_info": {
   "codemirror_mode": {
    "name": "ipython",
    "version": 3
   },
   "file_extension": ".py",
   "mimetype": "text/x-python",
   "name": "python",
   "nbconvert_exporter": "python",
   "pygments_lexer": "ipython3",
   "version": "3.8.8"
  }
 },
 "nbformat": 4,
 "nbformat_minor": 5
}
