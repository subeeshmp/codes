{
 "cells": [
  {
   "cell_type": "code",
   "execution_count": 5,
   "id": "c1908794-a744-4629-b352-a682123b0b5e",
   "metadata": {},
   "outputs": [],
   "source": [
    "import numpy as np\n",
    "import matplotlib.pyplot as plt\n",
    "from netCDF4 import Dataset\n",
    "import glob, sys\n",
    "import sys\n",
    "import xarray as xr\n",
    "import dask.distributed\n",
    "from matplotlib import colors as c\n",
    "import pytide\n",
    "import multiprocessing\n",
    "import pandas as pd\n",
    "import datetime\n",
    "import seawater"
   ]
  },
  {
   "cell_type": "markdown",
   "id": "3b7f05fc-7eda-4c57-b5a3-e56603367838",
   "metadata": {},
   "source": [
    "Read variable in a netcdf file. Function requires variable name, xaxis,yaxis and zaxis grid name.\n",
    "mask file is also creating. Now the value greater than 2000 is used to create mask file. This value can set according to the model output. 2000 is given to consider density value which range 1000.\n",
    "Timeseries values is converting to datetime64 format which is required for harmonic analysis in pytide package"
   ]
  },
  {
   "cell_type": "code",
   "execution_count": 7,
   "id": "9773bbd4-5213-43dd-a347-ade2df390cff",
   "metadata": {},
   "outputs": [],
   "source": [
    "def read_netcdf(variable_name,t_name,x_name,y_name,k_name):\n",
    "    data_netcdf=xr.open_mfdataset('ROMS_*.nc', parallel=True, concat_dim=t_name, combine=\"nested\",\n",
    "                           data_vars='minimal', coords='minimal', compat='override')\n",
    "    if variable_name == 'ZETA':\n",
    "        data_netcdf_var=data_netcdf[variable_name][:,:,:].values\n",
    "        mask=xr.where(data_netcdf_var[0,:,:]>100, np.nan, 1)\n",
    "    else:\n",
    "        data_netcdf_var=data_netcdf[variable_name][:,:,:,:].values\n",
    "        mask=xr.where(data_netcdf_var[0,:,:,:]>100, np.nan, 1) \n",
    "    lon=data_netcdf[x_name][:].values\n",
    "    lat=data_netcdf[y_name][:].values\n",
    "    depth=data_netcdf[k_name][:].values\n",
    "    time_value=data_netcdf[t_name].values.astype('datetime64[s]')\n",
    "    \n",
    "    xsize=lon.size\n",
    "    ysize=lat.size\n",
    "    zsize=depth.size\n",
    "    if variable_name == 'ZETA':\n",
    "        zsize=1\n",
    "    return data_netcdf_var, mask, time_value,lon,lat,depth,xsize,ysize,zsize"
   ]
  },
  {
   "cell_type": "code",
   "execution_count": 8,
   "id": "505a26e5-4f94-4c46-a031-21f82ce998a5",
   "metadata": {},
   "outputs": [],
   "source": [
    "def nodal_modulations(wave_table, time_series):\n",
    "   # \"\"\"Compute nodal corrections for a given time series\"\"\"    \n",
    "    #t = time_series.astype('datetime64[s]')\n",
    "    waves_table = pytide.WaveTable(wave_table)\n",
    "    f, v0u = waves_table.compute_nodal_modulations(time_series)\n",
    "    return (f,v0u)"
   ]
  },
  {
   "cell_type": "code",
   "execution_count": 9,
   "id": "06e1fc58-6d74-4a8b-8bc6-48b7cc50caef",
   "metadata": {},
   "outputs": [],
   "source": [
    "def Harmonic_analysis(mask,eta,f,v0u,wave_table):\n",
    "    #if mask !=0:\n",
    "    if mask ==1:\n",
    "        #print (\"Passed\")\n",
    "        waves_table = pytide.WaveTable(wave_table)\n",
    "        w = waves_table.harmonic_analysis(eta, f, v0u)\n",
    "        return w \n",
    "    return complex(0)"
   ]
  },
  {
   "cell_type": "code",
   "execution_count": 10,
   "id": "a34e0aa1-35f9-4bad-a907-9f56524a3589",
   "metadata": {},
   "outputs": [],
   "source": [
    "def splat_harmonic_analysis(args):\n",
    "    return Harmonic_analysis(*args)"
   ]
  },
  {
   "cell_type": "code",
   "execution_count": 11,
   "id": "ad6661ee-7f4e-4f83-adf1-9de2a683e055",
   "metadata": {},
   "outputs": [],
   "source": [
    "def parallel(var,mask,xsize,ysize,zsize,eta,f,v0u,wave_table):\n",
    "    pool=multiprocessing.Pool(4)\n",
    "    #amp = pool.map(splat_harmonic_analysis,\n",
    "    #        ((mask[i,j],eta[:,i,j], f, v0u,waves_table) for i in range(xsize) for j in range(ysize)))\n",
    "    if var == 'ZETA':\n",
    "        analysis = pool.map(splat_harmonic_analysis,\n",
    "                   ((mask[i,j],eta[:,i,j], f, v0u,wave_table) for i in range(xsize) for j in range(ysize)))\n",
    "    else:\n",
    "        analysis = pool.map(splat_harmonic_analysis,\n",
    "                   ((mask[k,i,j],eta[:,k,i,j], f, v0u,wave_table) for k in range(zsize) for i in range(xsize) \n",
    "                   for j in range(ysize)))\n",
    "        \n",
    "    return analysis"
   ]
  },
  {
   "cell_type": "code",
   "execution_count": 12,
   "id": "784ed1c3-7cc0-4efc-b94c-e422cf81e84c",
   "metadata": {},
   "outputs": [],
   "source": [
    "def create_netcdf(var,x,y,z,amp,pha):\n",
    "    if var=='ZETA':\n",
    "        z=[0.0]\n",
    "        #amp=np.reshape(amp,[x.size,y.size,1])\n",
    "        #pha=np.reshape(pha,[x.size,y.size,1])       \n",
    "    ds = xr.Dataset(\n",
    "        data_vars=dict(\n",
    "            amp=([\"depth\",\"lon\", \"lat\"], amp),\n",
    "            pha=([\"depth\",\"lon\", \"lat\"], pha)),\n",
    "        coords=dict(\n",
    "            lon=([\"lon\"], x),\n",
    "            lat=([\"lat\"], y),\n",
    "            depth=([\"depth\"], z),\n",
    "        ),\n",
    "        attrs=dict(description=var),\n",
    "    )\n",
    "    if var=='ZETA':\n",
    "        ds.amp.attrs[\"units\"] = \"meters\"\n",
    "    elif var=='U' or var=='V':\n",
    "        ds.amp.attrs[\"units\"] = \"m/s\"\n",
    "    else:\n",
    "        ds.amp.attrs[\"units\"] = \"meters\"            \n",
    "    ds.pha.attrs[\"units\"] = \"degree\"\n",
    "    ds.lon.attrs[\"units\"] = \"degree_east\"\n",
    "    ds.lat.attrs[\"units\"] = \"degree_north\"\n",
    "    \n",
    "    out_data=ds.to_netcdf(var+'.nc',\"w\")\n",
    "    \n",
    "    return out_data"
   ]
  },
  {
   "cell_type": "code",
   "execution_count": 13,
   "id": "cdf702a0-2bac-4753-997d-9c6bcfb67639",
   "metadata": {},
   "outputs": [],
   "source": [
    "def timeseries_constituents(wave_table,xsize,ysize,zsize,amp,pha):\n",
    "    constituent=wave_table[0]\n",
    "    if constituent=='M2':\n",
    "        time=np.arange(13)\n",
    "        tide =  np.reshape(amp,(1,zsize,xsize,ysize)) * np.sin((0.505636071* \n",
    "                                                     np.tile(time.reshape(13,1,1,1),\n",
    "                                                                          (1,zsize,xsize,ysize)))- \n",
    "                                                    (np.reshape(pha,(1,zsize,xsize,ysize))*(np.pi/180.)))\n",
    "    return tide"
   ]
  },
  {
   "cell_type": "code",
   "execution_count": 14,
   "id": "c4e5b568-9540-4eed-a18d-ba870dcf9670",
   "metadata": {},
   "outputs": [],
   "source": [
    "def create_netcdf_timeseries(wave_table,var,x,y,z,t,tide):\n",
    "    constituent=wave_table[0]\n",
    "    if constituent=='M2':\n",
    "        t=t[0:13]\n",
    "        #t=pd.to_datetime(time[0:13])\n",
    "    if var=='ZETA':\n",
    "        z=[0.0]    \n",
    "    ds = xr.Dataset(\n",
    "        data_vars=dict(\n",
    "            tide=([\"time\",\"depth\",\"lon\", \"lat\"], tide),),\n",
    "        coords=dict(\n",
    "            lon=([\"lon\"], x),\n",
    "            lat=([\"lat\"], y),\n",
    "            depth=([\"depth\"], z),\n",
    "            time=([\"time\"],t)\n",
    "        ),\n",
    "        attrs=dict(description=var),\n",
    "    )\n",
    "    if var=='ZETA':\n",
    "        ds.tide.attrs[\"units\"] = \"meters\"\n",
    "    elif var=='U' or var=='V':\n",
    "        ds.tide.attrs[\"units\"] = \"m/s\"\n",
    "    else:\n",
    "        ds.tide.attrs[\"units\"] = \"meters\"            \n",
    "    ds.lon.attrs[\"units\"] = \"degree_east\"\n",
    "    ds.lat.attrs[\"units\"] = \"degree_north\"\n",
    "#    ds.time.attrs[\"units\"] = \"hours\"\n",
    "#    ds.time.attrs[\"calendar\"] = \"Julian\"\n",
    "    \n",
    "    out_data=ds.to_netcdf(var+'_timeseries.nc',\"w\")\n",
    "    \n",
    "    return out_data"
   ]
  },
  {
   "cell_type": "code",
   "execution_count": 15,
   "id": "fbc7402f-bca5-4b2d-b78f-14545e02b9eb",
   "metadata": {},
   "outputs": [],
   "source": [
    "def vertical_average(var,depth,mask,xsize,ysize):\n",
    "    dz=np.append([1],(depth[1:]-depth[:-1]))  # dz value will start with [1,...] \n",
    "    \n",
    "    #  sum of ( variable* mask * dz) / sum of (dz*mask) \n",
    "    depth_mean= np.nansum((var*(mask.reshape(1,dz.size,xsize,ysize)))*\n",
    "                       (dz.reshape(1,dz.size,1,1)),axis=1)/np.nansum( (\n",
    "        (dz.reshape(1,dz.size,1,1))* (mask.reshape(1,dz.size,xsize,ysize)) ),axis=1 )\n",
    "    \n",
    "    #depth_mean2= np.sum((var)*(dz.reshape(1,dz.size,1,1)),axis=1)/np.sum(dz)\n",
    "    return(depth_mean)"
   ]
  },
  {
   "cell_type": "code",
   "execution_count": 16,
   "id": "a79fcde5-122f-4af6-9e0c-35cb97ebd8aa",
   "metadata": {},
   "outputs": [],
   "source": [
    "def bv_frequency(salt,temp,depth,mask):\n",
    "    bv=seawater.bfrq(df.salt,df.temp,df.dep,lat=None)\n",
    "    seawater.dens\n",
    "    return bv,density"
   ]
  },
  {
   "cell_type": "code",
   "execution_count": 17,
   "id": "86f5ae54-a346-4bbe-9bee-ebc680ff3611",
   "metadata": {},
   "outputs": [],
   "source": [
    "if __name__ == '__main__':\n",
    "    \n",
    "    ### User defined NETCDF variable and axis names\n",
    "    var_name ='U'\n",
    "    var_tname='TIME'\n",
    "    var_xname='LON_RHO385_409'\n",
    "    var_yname='LAT_RHO122_146'\n",
    "    var_zname='DEPTH'\n",
    "    \n",
    "    ### User defined tidal consituent\n",
    "    wave_table=['M2'] \n",
    "    \n",
    "    ##\n",
    "    #mask=1\n",
    "    \n",
    "    \n",
    "    eta,mask,time,lon,lat,depth,xsize,ysize,zsize=read_netcdf(var_name,var_tname,var_xname,var_yname,var_zname)\n",
    "\n",
    "\n",
    "    f,v0u=nodal_modulations(wave_table,time)\n",
    "    \n",
    "   \n",
    "    analysis=parallel(var_name,mask,xsize,ysize,zsize,eta,f,v0u,wave_table)\n",
    "    \n",
    "    amp=np.absolute (np.reshape(np.array(analysis), (zsize,xsize,ysize)))\n",
    "    \n",
    "    pha=np.angle (np.reshape(np.array(analysis), (zsize,xsize,ysize)),deg=True)\n",
    "    \n",
    "    \n",
    "    \n",
    "    out=create_netcdf(var_name,lon,lat,depth,amp,pha)\n",
    "    \n",
    "    tide=timeseries_constituents(wave_table,xsize,ysize,zsize,amp,pha)\n",
    "\n",
    "    create_netcdf_timeseries(wave_table,var_name,lon,lat,depth,time,tide)\n",
    "\n"
   ]
  },
  {
   "cell_type": "code",
   "execution_count": 19,
   "id": "e5502102-2aae-45c5-9182-209dd186bb2b",
   "metadata": {},
   "outputs": [],
   "source": [
    "\n",
    "    u_mean=vertical_average(tide,depth,mask,xsize,ysize)\n",
    "\n"
   ]
  },
  {
   "cell_type": "code",
   "execution_count": 21,
   "id": "8291fdbd-193b-4571-aa4f-69f7061c84b8",
   "metadata": {},
   "outputs": [
    {
     "name": "stdout",
     "output_type": "stream",
     "text": [
      "(13, 25, 25)\n"
     ]
    }
   ],
   "source": [
    "##### Isopycnal displacement\n",
    "print(u_mean.shape)\n"
   ]
  }
 ],
 "metadata": {
  "kernelspec": {
   "display_name": "Python 3 (ipykernel)",
   "language": "python",
   "name": "python3"
  },
  "language_info": {
   "codemirror_mode": {
    "name": "ipython",
    "version": 3
   },
   "file_extension": ".py",
   "mimetype": "text/x-python",
   "name": "python",
   "nbconvert_exporter": "python",
   "pygments_lexer": "ipython3",
   "version": "3.8.8"
  }
 },
 "nbformat": 4,
 "nbformat_minor": 5
}
